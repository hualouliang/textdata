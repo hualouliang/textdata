{
  "nbformat": 4,
  "nbformat_minor": 0,
  "metadata": {
    "colab": {
      "name": "tricks.ipynb",
      "provenance": [],
      "machine_shape": "hm",
      "authorship_tag": "ABX9TyP8XD1SrqMLdGEU3NXSQN0E",
      "include_colab_link": true
    },
    "kernelspec": {
      "name": "python3",
      "display_name": "Python 3"
    }
  },
  "cells": [
    {
      "cell_type": "markdown",
      "metadata": {
        "id": "view-in-github",
        "colab_type": "text"
      },
      "source": [
        "<a href=\"https://colab.research.google.com/github/hualouliang/textdata/blob/master/tricks.ipynb\" target=\"_parent\"><img src=\"https://colab.research.google.com/assets/colab-badge.svg\" alt=\"Open In Colab\"/></a>"
      ]
    },
    {
      "cell_type": "code",
      "metadata": {
        "id": "OC5vDdyCuR4g",
        "colab_type": "code",
        "colab": {
          "base_uri": "https://localhost:8080/",
          "height": 51
        },
        "outputId": "0ca6755d-ee58-4d86-aa32-64332715095e"
      },
      "source": [
        "# Check memory\n",
        "from psutil import virtual_memory\n",
        "ram_gb = virtual_memory().total / 1e9\n",
        "print('Your runtime has {:.1f} gigabytes of available RAM\\n'.format(ram_gb))"
      ],
      "execution_count": 1,
      "outputs": [
        {
          "output_type": "stream",
          "text": [
            "Your runtime has 13.7 gigabytes of available RAM\n",
            "\n"
          ],
          "name": "stdout"
        }
      ]
    },
    {
      "cell_type": "markdown",
      "metadata": {
        "id": "j1bOyd0VuZJt",
        "colab_type": "text"
      },
      "source": [
        "Trick #1: Double your RAM: run until crash"
      ]
    },
    {
      "cell_type": "code",
      "metadata": {
        "id": "DqkCz_VYuSvN",
        "colab_type": "code",
        "colab": {}
      },
      "source": [
        "i = []\n",
        "while(True):\n",
        "    i.append('a')"
      ],
      "execution_count": 0,
      "outputs": []
    },
    {
      "cell_type": "code",
      "metadata": {
        "id": "pw4Z9MMHucxa",
        "colab_type": "code",
        "colab": {
          "base_uri": "https://localhost:8080/",
          "height": 51
        },
        "outputId": "7efe309a-b1e8-4261-a867-25c7fbdf7b77"
      },
      "source": [
        "# Check memory\n",
        "from psutil import virtual_memory\n",
        "ram_gb = virtual_memory().total / 1e9\n",
        "print('Your runtime has {:.1f} gigabytes of available RAM\\n'.format(ram_gb))"
      ],
      "execution_count": 1,
      "outputs": [
        {
          "output_type": "stream",
          "text": [
            "Your runtime has 27.4 gigabytes of available RAM\n",
            "\n"
          ],
          "name": "stdout"
        }
      ]
    },
    {
      "cell_type": "markdown",
      "metadata": {
        "id": "8YoMkeazvdpA",
        "colab_type": "text"
      },
      "source": [
        "### Trick #2: Stop Google Colab From Disconnecting when > 30 min\n",
        "* Mac: CMD + Option + I\n",
        "* open your Chrome DevTools by pressing F12 or Ctrl+Shift+I on Linux\n",
        "\n",
        "function KeepClicking(){\n",
        "   console.log(\"Clicking\");\n",
        "   document.querySelector(\"colab-toolbar-button#connect\").click()\n",
        "}setInterval(KeepClicking,60000) \n",
        "\n",
        "* makes a click on the Colab screen after every 60 seconds (60,000 represents the milliseconds)"
      ]
    },
    {
      "cell_type": "markdown",
      "metadata": {
        "id": "AlcGP-jbxSmc",
        "colab_type": "text"
      },
      "source": [
        "### Trick #3: Snippets in Google Colab\n",
        " A snippet is a reusable piece of code which you can use whenever \n",
        " * Create a notebook in Colab. \n",
        " * Add a text cell and type your snippet name. \n",
        " * Add the code cells and type your code\n",
        "\n",
        " * Tools -> Setting ?"
      ]
    },
    {
      "cell_type": "markdown",
      "metadata": {
        "id": "5Lav91yb33yH",
        "colab_type": "text"
      },
      "source": [
        "Trick #4: Go to Tools and open Settings: \n",
        "Welcome to the Corgi and Kitty mode in Miscellaneous"
      ]
    },
    {
      "cell_type": "markdown",
      "metadata": {
        "id": "ijoTeoaZ4Qoj",
        "colab_type": "text"
      },
      "source": [
        "Trick #5: Top Keyboard Shortcuts in Google Colab"
      ]
    },
    {
      "cell_type": "code",
      "metadata": {
        "id": "iis52tD0vCu5",
        "colab_type": "code",
        "colab": {}
      },
      "source": [
        ""
      ],
      "execution_count": 0,
      "outputs": []
    }
  ]
}